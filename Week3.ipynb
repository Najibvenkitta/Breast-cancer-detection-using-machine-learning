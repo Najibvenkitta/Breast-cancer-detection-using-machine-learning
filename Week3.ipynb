{
 "cells": [
  {
   "cell_type": "markdown",
   "metadata": {},
   "source": [
    "# 1.Guassian distribution\n",
    "    Gussian distribution is also called normal distribution,is a probability distribution which is symmetric about mean.showing that data near the mean are more frequent in occurrence than data far from the mean. In graph form, normal distribution will appear as a bell curve.It fits many natural phenomena, for example, heights, blood pressure, measurement error, and IQ scores.\n",
    "    The normal distribution is a probability function that describes how the values of a variable are distributed. It is a symmetric distribution where most of the observations cluster around the central peak and the probabilities for values further away from the mean taper off equally in both directions. Extreme values in both tails of the distribution are similarly unlikely.As with any probability distribution, the parameters for the normal distribution define its shape and probabilities entirely. The normal distribution has two parameters, the mean and standard deviation. The normal distribution does not have just one form. Instead, the shape changes based on the parameter values."
   ]
  },
  {
   "cell_type": "markdown",
   "metadata": {},
   "source": [
    "Mean:-The mean is the central tendency of the distribution. It defines the location of the peak for normal distributions. Most values cluster around the mean. On a graph, changing the mean shifts the entire curve left or right on the X-axis."
   ]
  },
  {
   "cell_type": "markdown",
   "metadata": {},
   "source": [
    "Standard deviation:-The standard deviation is a measure of variability. It defines the width of the normal distribution. The standard deviation determines how far away from the mean the values tend to fall. It represents the typical distance between the observations and the average.On a graph, changing the standard deviation either tightens or spreads out the width of the distribution along the X-axis. Larger standard deviations produce distributions that are more spread out."
   ]
  },
  {
   "cell_type": "markdown",
   "metadata": {},
   "source": [
    "# 2.Binomial distribution\n",
    "    The binomial distribution is a common discrete distribution used in statistics, as opposed to a continuous distribution, such as the normal distribution. This is because the binomial distribution only counts two states, typically represented as 1 (for a success) or 0 (for a failure) given a number of trials in the data. The binomial distribution, therefore, represents the probability for x successes in n trials, given a success probability p for each trial.The binomial distribution is often used in social science statistics as a building block for models for dichotomous outcome variables, like whether a Republican or Democrat will win an upcoming election or whether an individual will die within a specified period of time, etc.\n"
   ]
  },
  {
   "cell_type": "markdown",
   "metadata": {},
   "source": [
    "The mean of the binomial distribution is np, and the variance of the binomial distribution is np (1 − p). When p = 0.5, the distribution is symmetric around the mean. When p > 0.5, the distribution is skewed to the left. When p < 0.5, the distribution is skewed to the right."
   ]
  },
  {
   "cell_type": "markdown",
   "metadata": {},
   "source": [
    "The binomial distribution is the sum of a series of multiple independent and identically distributed Bernoulli trials. In a Bernoulli trial, the experiment is said to be random and can only have two possible outcomes: success or failure"
   ]
  },
  {
   "cell_type": "markdown",
   "metadata": {},
   "source": [
    "# Guassian distribution vs Binomial distribution\n",
    "Normal distributions are more common in statistics than binomial distributions most of the time. These      distributions are always symmetric and unimodal by definition.\n",
    "\n",
    "Normal distributions can be described by their mean and standard deviation. The mean determines where the center of the distribution is located. The standard deviation determines the shape of the distribution. A larger standard deviation means a wider and flatter shape, while a smaller standard deviation means a skinnier shape.\n",
    "\n",
    "Furthermore, unlike binomial distributions, a normal distribution is based on the values of a dataset.\n",
    "\n",
    "An example of a normal distribution is for the heights of people in a country.\n",
    "\n",
    "Binomial Distribution\n",
    "These distributions tell us the probability for a specific number of “successes” to happen, given a probability of success and number of trials.\n",
    "\n",
    "Unlike normal distributions, binomial distributions tell us the results of only two possible outcomes: success or failure.\n",
    "\n",
    "An example of this is flipping a coin, which can only result in heads or tails.\n",
    "\n",
    "\n",
    "\n"
   ]
  },
  {
   "cell_type": "markdown",
   "metadata": {},
   "source": [
    "#  Logistics regression\n",
    "Logistic regression is one of the most popular Machine Learning algorithms, which comes under the Supervised Learning technique. It is used for predicting the categorical dependent variable using a given set of independent variables.\n",
    "\n",
    "Logistic regression predicts the output of a categorical dependent variable. Therefore the outcome must be a categorical or discrete value. It can be either Yes or No, 0 or 1, true or False, etc. but instead of giving the exact value as 0 and 1, it gives the probabilistic values which lie between 0 and 1.\n",
    "\n",
    "Logistic Regression is much similar to the Linear Regression except that how they are used. Linear Regression is used for solving Regression problems, whereas Logistic regression is used for solving the classification problems.\n",
    "In Logistic regression, instead of fitting a regression line, we fit an \"S\" shaped logistic function, which predicts two maximum values (0 or 1).\n",
    "\n",
    "The curve from the logistic function indicates the likelihood of something such as whether the cells are cancerous or not, a mouse is obese or not based on its weight, etc.\n",
    "\n",
    "Logistic Regression is a significant machine learning algorithm because it has the ability to provide probabilities and classify new data using continuous and discrete datasets.\n",
    "\n",
    "Logistic Regression can be used to classify the observations using different types of data and can easily determine the most effective variables used for the classification."
   ]
  },
  {
   "cell_type": "markdown",
   "metadata": {},
   "source": [
    "# Decision tree classifier \n",
    "    Step-1: Begin the tree with the root node, says R, which contains the complete dataset.\n",
    "    Step-2: Find the best attribute in the dataset using Attribute Selection Measure (ASM).\n",
    "    Step-3: Divide the R into subsets that contains possible values for the best attributes.\n",
    "    Step-4: Generate the decision tree node, which contains the best attribute.\n",
    "    Step-5: Recursively make new decision trees using the subsets of the dataset created in step -3. Continue this process                 until a stage is reached where you cannot further classify the nodes and called the final node as a leaf node.\n"
   ]
  },
  {
   "cell_type": "markdown",
   "metadata": {},
   "source": [
    "# Random Forest classifier\n",
    "    Step-1: Randomly select “K” features from total “m” features where k << m\n",
    "    Step-2: Among the “K” features, calculate the node “d” using the best split point\n",
    "    Step-3: Split the node into daughter nodes using the best split\n",
    "    Step-4: Repeat the 1 to 3 steps until “l” number of nodes has been reached\n",
    "    Step-5: Build forest by repeating steps 1 to 5 for “n” number times to create “n” number of trees\n"
   ]
  }
 ],
 "metadata": {
  "kernelspec": {
   "display_name": "Python 3",
   "language": "python",
   "name": "python3"
  },
  "language_info": {
   "codemirror_mode": {
    "name": "ipython",
    "version": 3
   },
   "file_extension": ".py",
   "mimetype": "text/x-python",
   "name": "python",
   "nbconvert_exporter": "python",
   "pygments_lexer": "ipython3",
   "version": "3.8.3"
  }
 },
 "nbformat": 4,
 "nbformat_minor": 4
}
