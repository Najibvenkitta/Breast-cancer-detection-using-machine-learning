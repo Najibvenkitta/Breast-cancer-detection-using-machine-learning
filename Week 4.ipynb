{
 "cells": [
  {
   "cell_type": "code",
   "execution_count": 1,
   "metadata": {},
   "outputs": [
    {
     "name": "stdout",
     "output_type": "stream",
     "text": [
      "Decision tree classifier training accuracy: 1.0\n",
      "[[83  7]\n",
      " [ 2 51]]\n",
      "Testing accuracy of decision tree classifier= 0.9370629370629371\n"
     ]
    }
   ],
   "source": [
    "#DECISION TREE CLASSIFIER\n",
    "import pandas as pd\n",
    "df = pd.read_csv(r\"C:\\Users\\Dell\\Desktop\\cancer dataset.csv\")\n",
    "from sklearn.preprocessing import LabelEncoder\n",
    "labelencoder_Y=LabelEncoder()\n",
    "df.iloc[:,1]=labelencoder_Y.fit_transform(df.iloc[:,1].values)\n",
    "X=df.iloc[:,2:31].values\n",
    "Y=df.iloc[:,1].values\n",
    "from sklearn.model_selection import train_test_split\n",
    "X_train, X_test, Y_train, Y_test= train_test_split(X,Y, test_size=0.25, random_state=0)\n",
    "from sklearn.preprocessing import StandardScaler\n",
    "sc=StandardScaler()\n",
    "X_train=sc.fit_transform(X_train)\n",
    "X_test=sc.fit_transform(X_test)\n",
    "def dectr(X_train, Y_train):\n",
    "    from sklearn.tree import DecisionTreeClassifier\n",
    "    log=DecisionTreeClassifier (criterion=\"entropy\", random_state=0)\n",
    "    log.fit(X_train, Y_train)\n",
    "    print(\"Decision tree classifier training accuracy:\", log.score(X_train, Y_train))\n",
    "    return log\n",
    "dectree=dectr(X_train,Y_train)\n",
    "from sklearn.metrics import confusion_matrix\n",
    "cm = confusion_matrix(Y_test, dectree.predict(X_test))\n",
    "print(cm)\n",
    "TP=cm[0][0]\n",
    "TN=cm[1][1]\n",
    "FN=cm[1][0]\n",
    "FP=cm[0][1]\n",
    "print(\"Testing accuracy of decision tree classifier=\", (TP+TN)/(TP+TN+FN+FP))"
   ]
  },
  {
   "cell_type": "code",
   "execution_count": 2,
   "metadata": {},
   "outputs": [
    {
     "name": "stdout",
     "output_type": "stream",
     "text": [
      "Random forest classifier  Training Accuracy: 0.9953051643192489\n",
      "[[87  3]\n",
      " [ 2 51]]\n",
      "Testing accuracy of Random forest classifier= 0.965034965034965\n"
     ]
    }
   ],
   "source": [
    "#RANDOM FOREST CLASSIFIER\n",
    "import pandas as pd\n",
    "df = pd.read_csv(r\"C:\\Users\\Dell\\Desktop\\cancer dataset.csv\")\n",
    "from sklearn.preprocessing import LabelEncoder\n",
    "labelencoder_Y=LabelEncoder()\n",
    "df.iloc[:,1]=labelencoder_Y.fit_transform(df.iloc[:,1].values)\n",
    "X=df.iloc[:,2:31].values\n",
    "Y=df.iloc[:,1].values\n",
    "from sklearn.model_selection import train_test_split\n",
    "X_train, X_test, Y_train, Y_test= train_test_split(X,Y, test_size=0.25, random_state=0)\n",
    "from sklearn.preprocessing import StandardScaler\n",
    "sc=StandardScaler()\n",
    "X_train=sc.fit_transform(X_train)\n",
    "X_test=sc.fit_transform(X_test)\n",
    "def randf(X_train, Y_train):\n",
    "    from sklearn.ensemble import RandomForestClassifier\n",
    "    log=RandomForestClassifier(n_estimators=10,criterion=\"entropy\",random_state=0)\n",
    "    log.fit(X_train, Y_train)\n",
    "    print(\"Random forest classifier  Training Accuracy:\", log.score(X_train, Y_train))\n",
    "    return log\n",
    "randforest=randf(X_train, Y_train)\n",
    "from sklearn.metrics import confusion_matrix\n",
    "cm = confusion_matrix(Y_test, randforest.predict(X_test))\n",
    "print(cm)\n",
    "TP=cm[0][0]\n",
    "TN=cm[1][1]\n",
    "FN=cm[1][0]\n",
    "FP=cm[0][1]\n",
    "print(\"Testing accuracy of Random forest classifier=\", (TP+TN)/(TP+TN+FN+FP))"
   ]
  },
  {
   "cell_type": "code",
   "execution_count": null,
   "metadata": {},
   "outputs": [],
   "source": [
    "#SUMMARY\n",
    "#Random forest classifier have the higher accuracy"
   ]
  }
 ],
 "metadata": {
  "kernelspec": {
   "display_name": "Python 3",
   "language": "python",
   "name": "python3"
  },
  "language_info": {
   "codemirror_mode": {
    "name": "ipython",
    "version": 3
   },
   "file_extension": ".py",
   "mimetype": "text/x-python",
   "name": "python",
   "nbconvert_exporter": "python",
   "pygments_lexer": "ipython3",
   "version": "3.8.3"
  }
 },
 "nbformat": 4,
 "nbformat_minor": 4
}
