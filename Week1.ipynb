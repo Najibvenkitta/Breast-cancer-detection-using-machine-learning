{
 "cells": [
  {
   "cell_type": "code",
   "execution_count": 1,
   "metadata": {},
   "outputs": [
    {
     "name": "stdout",
     "output_type": "stream",
     "text": [
      "arr:[[ 0  1  2]\n",
      " [ 3  4  5]\n",
      " [ 6  7  8]\n",
      " [ 9 10 11]\n",
      " [12 13 14]\n",
      " [15 16 17]]\n"
     ]
    }
   ],
   "source": [
    "#Question 1\n",
    "import numpy as np\n",
    "arr=np.arange(18).reshape(6,3)\n",
    "print(\"arr:{}\".format(arr))"
   ]
  },
  {
   "cell_type": "code",
   "execution_count": 2,
   "metadata": {},
   "outputs": [
    {
     "name": "stdout",
     "output_type": "stream",
     "text": [
      "  NAME  INCOME          STATE  AGE GENDER  NO OF SIBLINGS\n",
      "0    A      50     Tamil Nadu   23      M               0\n",
      "1    B      34      Karnataka   37      F               3\n",
      "2    C      54     Tamil Nadu   35      F               1\n",
      "3    D      24  Uttar Pradesh   26      F               4\n",
      "4    E      19          Bihar   59      M               5\n",
      "5    F      21          Bihar   48      M               6\n",
      "6    G      40          Delhi   30      F               2\n",
      "7    H      20  Uttar Pradesh   72      M              10\n",
      "8    I      30      Telangana   22      F               0\n",
      "9    J      18    Chattisgarh   42      M               7\n"
     ]
    }
   ],
   "source": [
    "#Question 2\n",
    "import pandas as pd\n",
    "\n",
    "df = pd.read_excel(r\"C:\\Users\\Dell\\Desktop\\Week 1 Dataset.xlsx\")\n",
    "df2= df.rename(columns={\"Name\":\"NAME\",\"Income per month\":\"INCOME\",\"State\":\"STATE\",\"Age\":\"AGE\",\"Sex\":\"GENDER\",\"Number of siblings\":\"NO OF SIBLINGS\"})\n",
    "print(df2)"
   ]
  },
  {
   "cell_type": "code",
   "execution_count": 3,
   "metadata": {},
   "outputs": [
    {
     "name": "stdout",
     "output_type": "stream",
     "text": [
      "  NAME  INCOME          STATE  AGE GENDER  NO OF SIBLINGS\n",
      "0    A      50     Tamil Nadu   23      M               0\n",
      "1    B      34      Karnataka   37      F               3\n",
      "2    C      54     Tamil Nadu   35      F               1\n",
      "3    D      24  Uttar Pradesh   26      F               4\n",
      "4    E      19          Bihar   59      M               5\n",
      "5    F      21          Bihar   48      M               6\n",
      "6    G      40          Delhi   30      F               2\n",
      "7    H      20  Uttar Pradesh   72      M              10\n",
      "8    I      30      Telangana   22      F               0\n",
      "9    J      18    Chattisgarh   42      M               7\n"
     ]
    }
   ],
   "source": [
    "#Question 3\n",
    "import pandas as pd\n",
    "\n",
    "df = pd.read_excel(r\"C:\\Users\\Dell\\Desktop\\Week 1 Dataset.xlsx\")\n",
    "df.rename(columns={\"Name\":\"NAME\",\"Income per month\":\"INCOME\",\"State\":\"STATE\",\"Age\":\"AGE\",\"Sex\":\"GENDER\",\"Number of siblings\":\"NO OF SIBLINGS\"}, inplace=True)\n",
    "df2 = df\n",
    "print(df2)"
   ]
  },
  {
   "cell_type": "code",
   "execution_count": 4,
   "metadata": {},
   "outputs": [
    {
     "name": "stdout",
     "output_type": "stream",
     "text": [
      "  Sex  Number of siblings\n",
      "0   M                   0\n",
      "1   F                   3\n",
      "2   F                   1\n",
      "3   F                   4\n",
      "4   M                   5\n",
      "5   M                   6\n",
      "6   F                   2\n",
      "7   M                  10\n",
      "8   F                   0\n",
      "9   M                   7\n"
     ]
    }
   ],
   "source": [
    "#Question 4\n",
    "import pandas as pd\n",
    "\n",
    "df = pd.read_excel(r\"C:\\Users\\Dell\\Desktop\\Week 1 Dataset.xlsx\")\n",
    "df = df[[\"Sex\", \"Number of siblings\"]]\n",
    "print(df)"
   ]
  },
  {
   "cell_type": "code",
   "execution_count": 5,
   "metadata": {},
   "outputs": [
    {
     "name": "stdout",
     "output_type": "stream",
     "text": [
      "   Income per month          State  Age Sex\n",
      "3                24  Uttar Pradesh   26   F\n",
      "4                19          Bihar   59   M\n",
      "5                21          Bihar   48   M\n",
      "6                40          Delhi   30   F\n",
      "7                20  Uttar Pradesh   72   M\n",
      "8                30      Telangana   22   F\n",
      "9                18    Chattisgarh   42   M\n"
     ]
    }
   ],
   "source": [
    "#Question 5\n",
    "import pandas as pd\n",
    "\n",
    "df = pd.read_excel(r\"C:\\Users\\Dell\\Desktop\\Week 1 Dataset.xlsx\")\n",
    "df = df.iloc[3:10,1:5]\n",
    "print(df)\n"
   ]
  },
  {
   "cell_type": "code",
   "execution_count": 6,
   "metadata": {},
   "outputs": [
    {
     "name": "stdout",
     "output_type": "stream",
     "text": [
      "0     0\n",
      "1     3\n",
      "2     1\n",
      "3     4\n",
      "4     5\n",
      "5     6\n",
      "6     2\n",
      "7    10\n",
      "8     0\n",
      "9     7\n",
      "Name: Number of siblings, dtype: int64\n"
     ]
    }
   ],
   "source": [
    "#Question 6\n",
    "import pandas as pd\n",
    "df = pd.read_excel(r\"C:\\Users\\Dell\\Desktop\\Week 1 Dataset.xlsx\")\n",
    "print(df[\"Number of siblings\"])"
   ]
  },
  {
   "cell_type": "code",
   "execution_count": 8,
   "metadata": {},
   "outputs": [],
   "source": [
    "#Question 7\n",
    "#depentent variables:Number of siblings\n",
    "#indepentent variables:Income,Age"
   ]
  },
  {
   "cell_type": "code",
   "execution_count": 2,
   "metadata": {},
   "outputs": [
    {
     "name": "stdout",
     "output_type": "stream",
     "text": [
      "AxesSubplot(0.125,0.125;0.62x0.755)\n"
     ]
    },
    {
     "data": {
      "image/png": "[encoded data removed]",
      "text/plain": [
       "<Figure size 432x288 with 2 Axes>"
      ]
     },
     "metadata": {
      "needs_background": "light"
     },
     "output_type": "display_data"
    }
   ],
   "source": [
    "#question 8\n",
    "import pandas as pd\n",
    "import seaborn as sns\n",
    "df = pd.read_excel(r\"C:\\Users\\Dell\\Desktop\\Week 1 Dataset.xlsx\")\n",
    "print(sns.heatmap(df.corr(), annot=True,fmt=\"0.0%\"))\n",
    "\n",
    "\n",
    "# As income increases number of siblings decreases\n",
    "# As age increases number of siblings also increases\n"
   ]
  },
  {
   "cell_type": "code",
   "execution_count": null,
   "metadata": {},
   "outputs": [],
   "source": []
  }
 ],
 "metadata": {
  "kernelspec": {
   "display_name": "Python 3",
   "language": "python",
   "name": "python3"
  },
  "language_info": {
   "codemirror_mode": {
    "name": "ipython",
    "version": 3
   },
   "file_extension": ".py",
   "mimetype": "text/x-python",
   "name": "python",
   "nbconvert_exporter": "python",
   "pygments_lexer": "ipython3",
   "version": "3.8.3"
  }
 },
 "nbformat": 4,
 "nbformat_minor": 4
}
